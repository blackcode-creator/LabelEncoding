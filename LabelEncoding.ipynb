{
  "nbformat": 4,
  "nbformat_minor": 0,
  "metadata": {
    "colab": {
      "name": "LabelEncoding.ipynb",
      "provenance": [],
      "collapsed_sections": [],
      "authorship_tag": "ABX9TyMtnFwYg5sUbKRnyV07vwk4"
    },
    "kernelspec": {
      "name": "python3",
      "display_name": "Python 3"
    },
    "language_info": {
      "name": "python"
    }
  },
  "cells": [
    {
      "cell_type": "code",
      "execution_count": null,
      "metadata": {
        "id": "RKHg5zSh3xnI"
      },
      "outputs": [],
      "source": [
        "#Label Encoding\n",
        "# labels can in form of numbers, words or something else.\n",
        "#We label training data so that we can the mapping can be tracked\n",
        "#to convert numbers to words we need encoder \n",
        "#so Label Encoding refers to the process of transforming the words labels to numerical values\n",
        "import numpy as np\n",
        "from sklearn import preprocessing"
      ]
    },
    {
      "cell_type": "code",
      "source": [
        "#Defining some sample of labels \n",
        "input_labels = ['red','black','red','green','black','yellow','white']"
      ],
      "metadata": {
        "id": "CVDNiPxl5llO"
      },
      "execution_count": null,
      "outputs": []
    },
    {
      "cell_type": "code",
      "source": [
        "#Creating the encoder then train the model\n",
        "encoder = preprocessing.LabelEncoder()\n",
        "encoder.fit(input_labels)"
      ],
      "metadata": {
        "colab": {
          "base_uri": "https://localhost:8080/"
        },
        "id": "EoCvZPE_6SSF",
        "outputId": "192caa4b-549f-4310-c89d-bd36958b0b12"
      },
      "execution_count": null,
      "outputs": [
        {
          "output_type": "execute_result",
          "data": {
            "text/plain": [
              "LabelEncoder()"
            ]
          },
          "metadata": {},
          "execution_count": 3
        }
      ]
    },
    {
      "cell_type": "code",
      "source": [
        "#Printing the mapping\n",
        "print(\"\\n Labelling mapping:\")\n",
        "\n",
        "for i, item in enumerate(encoder.classes_):\n",
        "  print(item,\"---->\", i)"
      ],
      "metadata": {
        "colab": {
          "base_uri": "https://localhost:8080/"
        },
        "id": "V3-yxMcH60hQ",
        "outputId": "21d7cebd-b9c8-4696-8f2c-d28bae7e21e9"
      },
      "execution_count": null,
      "outputs": [
        {
          "output_type": "stream",
          "name": "stdout",
          "text": [
            "\n",
            " Labelling mapping:\n",
            "black ----> 0\n",
            "green ----> 1\n",
            "red ----> 2\n",
            "white ----> 3\n",
            "yellow ----> 4\n"
          ]
        }
      ]
    },
    {
      "cell_type": "code",
      "source": [
        "#set of randomly ordered labels to see how it will performs:\n",
        "\n",
        "#Encode a set of labels using the encoder\n",
        "test_labels = ['green','red','black']\n",
        "encoded_values = encoder.transform(test_labels)\n",
        "print(\"\\n Labels =\", test_labels)\n",
        "print(\"Encoded values = \",list(encoded_values))"
      ],
      "metadata": {
        "colab": {
          "base_uri": "https://localhost:8080/"
        },
        "id": "x_AnfG9F7ey7",
        "outputId": "7bf94cc4-c269-46ad-be44-01da8e44ef5d"
      },
      "execution_count": null,
      "outputs": [
        {
          "output_type": "stream",
          "name": "stdout",
          "text": [
            "\n",
            " Labels = ['green', 'red', 'black']\n",
            "Encoded values =  [1, 2, 0]\n"
          ]
        }
      ]
    },
    {
      "cell_type": "code",
      "source": [
        "#testing the model if it understand the decoding \n",
        "#Decoded a set of values using encoder using input from the user\n",
        "encoded_values = [3, 0, 4, 1]\n",
        "\n",
        "decoded_list = encoder.inverse_transform(encoded_values)\n",
        "print(\"\\n Encoded values = \", encoded_values)\n",
        "\n",
        "#Now we are decoding the values from the list\n",
        "print(\"Decoded labels = \", list(decoded_list))"
      ],
      "metadata": {
        "colab": {
          "base_uri": "https://localhost:8080/"
        },
        "id": "GCkdgdUm8Zf8",
        "outputId": "9f189238-220a-4c6b-b3d7-9038f221d3e9"
      },
      "execution_count": null,
      "outputs": [
        {
          "output_type": "stream",
          "name": "stdout",
          "text": [
            "\n",
            " Encoded values =  [3, 0, 4, 1]\n",
            "Decoded labels =  ['white', 'black', 'yellow', 'green']\n"
          ]
        }
      ]
    },
    {
      "cell_type": "code",
      "source": [
        ""
      ],
      "metadata": {
        "id": "BOCkUw_8-Y4z"
      },
      "execution_count": null,
      "outputs": []
    }
  ]
}